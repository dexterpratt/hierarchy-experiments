{
 "cells": [
  {
   "cell_type": "markdown",
   "metadata": {},
   "source": [
    "### Plan\n",
    " - get the model\n",
    " - iterate the nodes\n",
    " - make description df from the node data\n",
    " - create html from the df\n",
    " - insert html as description attribute"
   ]
  },
  {
   "cell_type": "code",
   "execution_count": 1,
   "metadata": {},
   "outputs": [
    {
     "name": "stdout",
     "output_type": "stream",
     "text": [
      "ndex2 version: 3.3.1\n",
      "networkx version: 2.4\n",
      "pandas version: 1.0.3\n"
     ]
    }
   ],
   "source": [
    "from ndex2.nice_cx_network import NiceCXNetwork\n",
    "import ndex2.client as nc\n",
    "import ndex2\n",
    "print(\"ndex2 version: \" + ndex2.__version__)\n",
    "import networkx as nx\n",
    "print(\"networkx version: \" + nx.__version__)\n",
    "import pandas as pd\n",
    "print(\"pandas version: \" + pd.__version__)\n",
    "import os\n",
    "import sys"
   ]
  },
  {
   "cell_type": "code",
   "execution_count": 3,
   "metadata": {},
   "outputs": [
    {
     "name": "stdout",
     "output_type": "stream",
     "text": [
      "Enter the NDEx account name: ········\n",
      "Enter the NDEx account password ········\n",
      "Success.  Please continue.\n"
     ]
    }
   ],
   "source": [
    "import getpass\n",
    "my_account = getpass.getpass(prompt='Enter the NDEx account name: ')\n",
    "my_password = getpass.getpass(prompt='Enter the NDEx account password ')\n",
    "my_server = \"http://public.ndexbio.org\" # edit this if you want to use an NDEx server other than the public server\n",
    "# validate the account and password\n",
    "try:\n",
    "    my_ndex=nc.Ndex2(my_server, my_account, my_password)\n",
    "    my_ndex.update_status()\n",
    "    print(\"Success.  Please continue.\")\n",
    "except Exception as inst:\n",
    "    print(\"Could not access account %s with password %s\" % (my_account, my_password))\n",
    "    print(inst.args)"
   ]
  },
  {
   "cell_type": "code",
   "execution_count": 4,
   "metadata": {},
   "outputs": [],
   "source": [
    "hierarchical_model_uuid = \"f6fe97fb-1d2f-11ea-bb65-0ac135e8bacf\"\n",
    "model = ndex2.create_nice_cx_from_server(server='public.ndexbio.org', \n",
    "                                                          uuid=hierarchical_model_uuid, \n",
    "                                                          password=my_password, \n",
    "                                                          username=my_account)"
   ]
  },
  {
   "cell_type": "code",
   "execution_count": 71,
   "metadata": {},
   "outputs": [],
   "source": [
    " def set_model_descriptions(model):\n",
    "    \"\"\"\n",
    "    Create a Pandas DataFrame which formats selected node attributes as a description\n",
    "    \"\"\"\n",
    "    #TODO expand documentation\n",
    "    rows = []\n",
    "    node_items = None\n",
    "    if sys.version_info.major == 3:\n",
    "        node_items = nice_cx_network.nodes.items()\n",
    "    else:\n",
    "        node_items = nice_cx_network.nodes.iteritems()\n",
    "    # v is the node item values\n",
    "    # k is the index of the node\n",
    "    attribute_names = {\"name\", \"node_id\"}\n",
    "#    for node_id, v in node_items:\n",
    "    return attribute_names\n",
    "\n",
    "def create_node_description_df(model, node_id):\n",
    "    df_columns = [\"att\", \"value\"]\n",
    "    rows = []\n",
    "    for attribute in model.get_node_attributes(node_id):\n",
    "        row = {}\n",
    "        row[\"att\"] = attribute.get('n')\n",
    "        row[\"value\"] = attribute.get(\"v\")\n",
    "        rows.append(row)\n",
    "    description_df = pd.DataFrame(rows, columns=df_columns)\n",
    "    return description_df\n",
    "\n",
    "def set_node_description(model, node_id, description_df):\n",
    "    description_html = description_df.to_html(border=0, )\n",
    "    model.set_node_attribute(node_id, \"description\", description_html)\n",
    "    return description_html\n",
    "\n",
    "#print(node_items.keys())\n",
    "    \n",
    "def test(model):\n",
    "    #node_id = (list(model.nodes.keys())[0])\n",
    "    node_id = 5209\n",
    "    df = create_node_description_df(model, node_id)\n",
    "    d = set_node_description(model, node_id, df)\n",
    "    label = model.get_node_attribute(node_id, \"Annotation\").get(\"v\")\n",
    "    print(label)\n",
    "    return d\n",
    "#"
   ]
  },
  {
   "cell_type": "code",
   "execution_count": 72,
   "metadata": {},
   "outputs": [
    {
     "name": "stdout",
     "output_type": "stream",
     "text": [
      "Pre-mRNA splicing complex part II\n"
     ]
    },
    {
     "data": {
      "text/plain": [
       "'<table border=\"0\" class=\"dataframe\">\\n  <thead>\\n    <tr style=\"text-align: right;\">\\n      <th></th>\\n      <th>att</th>\\n      <th>value</th>\\n    </tr>\\n  </thead>\\n  <tbody>\\n    <tr>\\n      <th>0</th>\\n      <td>coad_mut</td>\\n      <td>0.217</td>\\n    </tr>\\n    <tr>\\n      <th>1</th>\\n      <td>lihc_mut</td>\\n      <td>0.112</td>\\n    </tr>\\n    <tr>\\n      <th>2</th>\\n      <td>Genes</td>\\n      <td>BCLAF1 GPATCH8 ISY1 MTDH PNN PPIG PRPF4B RBM39 RNPS1 SNRNP70 SRRM2 SRSF1 SRSF7 THRAP3 U2AF2</td>\\n    </tr>\\n    <tr>\\n      <th>3</th>\\n      <td>Size</td>\\n      <td>15</td>\\n    </tr>\\n    <tr>\\n      <th>4</th>\\n      <td>N cancer</td>\\n      <td>3.0</td>\\n    </tr>\\n    <tr>\\n      <th>5</th>\\n      <td>ucec_mut</td>\\n      <td>0.313</td>\\n    </tr>\\n    <tr>\\n      <th>6</th>\\n      <td>luad_mut</td>\\n      <td>0.217</td>\\n    </tr>\\n    <tr>\\n      <th>7</th>\\n      <td>brca_mut</td>\\n      <td>0.074</td>\\n    </tr>\\n    <tr>\\n      <th>8</th>\\n      <td>known cancer association</td>\\n      <td>n</td>\\n    </tr>\\n    <tr>\\n      <th>9</th>\\n      <td>Integrator</td>\\n      <td>false</td>\\n    </tr>\\n    <tr>\\n      <th>10</th>\\n      <td>N cancer in all descendents</td>\\n      <td>3</td>\\n    </tr>\\n    <tr>\\n      <th>11</th>\\n      <td>Activated in cancer</td>\\n      <td>BLCA,COAD,OV</td>\\n    </tr>\\n    <tr>\\n      <th>12</th>\\n      <td>ov_mut</td>\\n      <td>0.095</td>\\n    </tr>\\n    <tr>\\n      <th>13</th>\\n      <td>System type (&lt; 50 genes)</td>\\n      <td>2</td>\\n    </tr>\\n    <tr>\\n      <th>14</th>\\n      <td>hnsc_mut</td>\\n      <td>0.151</td>\\n    </tr>\\n    <tr>\\n      <th>15</th>\\n      <td>kirc_mut</td>\\n      <td>0.07</td>\\n    </tr>\\n    <tr>\\n      <th>16</th>\\n      <td>Annotation</td>\\n      <td>Pre-mRNA splicing complex part II</td>\\n    </tr>\\n    <tr>\\n      <th>17</th>\\n      <td>Main Hallmark</td>\\n      <td>mRNA processing</td>\\n    </tr>\\n    <tr>\\n      <th>18</th>\\n      <td>skcm_mut</td>\\n      <td>0.416</td>\\n    </tr>\\n    <tr>\\n      <th>19</th>\\n      <td>blca_mut</td>\\n      <td>0.267</td>\\n    </tr>\\n    <tr>\\n      <th>20</th>\\n      <td>Activated in cancer (include descendents)</td>\\n      <td>BLCA COAD OV</td>\\n    </tr>\\n    <tr>\\n      <th>21</th>\\n      <td>lusc_mut</td>\\n      <td>0.252</td>\\n    </tr>\\n    <tr>\\n      <th>22</th>\\n      <td>gbm_mut</td>\\n      <td>0.076</td>\\n    </tr>\\n    <tr>\\n      <th>23</th>\\n      <td>logSize</td>\\n      <td>3.907</td>\\n    </tr>\\n    <tr>\\n      <th>24</th>\\n      <td>NEST_ID</td>\\n      <td>NEST:107</td>\\n    </tr>\\n    <tr>\\n      <th>25</th>\\n      <td>stad_mut</td>\\n      <td>0.241</td>\\n    </tr>\\n    <tr>\\n      <th>26</th>\\n      <td>description</td>\\n      <td>&lt;table border=\"1\" class=\"dataframe\"&gt;\\\\n  &lt;thead&gt;\\\\n    &lt;tr style=\"text-align: right;\"&gt;\\\\n      &lt;th&gt;&lt;/th&gt;\\\\n      &lt;th&gt;att&lt;/th&gt;\\\\n      &lt;th&gt;value&lt;/th&gt;\\\\n    &lt;/tr&gt;\\\\n  &lt;/thead&gt;\\\\n  &lt;tbody&gt;\\\\n    &lt;tr&gt;\\\\n      &lt;th&gt;0&lt;/th&gt;\\\\n      &lt;td&gt;coad_mut&lt;/td&gt;\\\\n      &lt;td&gt;0.217&lt;/td&gt;\\\\n    &lt;/tr&gt;\\\\n    &lt;tr&gt;\\\\n      &lt;th&gt;1&lt;/th&gt;\\\\n      &lt;td&gt;lihc_mut&lt;/td&gt;\\\\n      &lt;td&gt;0.112&lt;/td&gt;\\\\n    &lt;/tr&gt;\\\\n    &lt;tr&gt;\\\\n      &lt;th&gt;2&lt;/th&gt;\\\\n      &lt;td&gt;Genes&lt;/td&gt;\\\\n      &lt;td&gt;BCLAF1 GPATCH8 ISY1 MTDH PNN PPIG PRPF4B RBM39 RNPS1 SNRNP70 SRRM2 SRSF1 SRSF7 THRAP3 U2AF2&lt;/td&gt;\\\\n    &lt;/tr&gt;\\\\n    &lt;tr&gt;\\\\n      &lt;th&gt;3&lt;/th&gt;\\\\n      &lt;td&gt;Size&lt;/td&gt;\\\\n      &lt;td&gt;15&lt;/td&gt;\\\\n    &lt;/tr&gt;\\\\n    &lt;tr&gt;\\\\n      &lt;th&gt;4&lt;/th&gt;\\\\n      &lt;td&gt;N cancer&lt;/td&gt;\\\\n      &lt;td&gt;3.0&lt;/td&gt;\\\\n    &lt;/tr&gt;\\\\n    &lt;tr&gt;\\\\n      &lt;th&gt;5&lt;/th&gt;\\\\n      &lt;td&gt;ucec_mut&lt;/td&gt;\\\\n      &lt;td&gt;0.313&lt;/td&gt;\\\\n    &lt;/tr&gt;\\\\n    &lt;tr&gt;\\\\n      &lt;th&gt;6&lt;/th&gt;\\\\n      &lt;td&gt;luad_mut&lt;/td&gt;\\\\n      &lt;td&gt;0.217&lt;/td&gt;\\\\n    &lt;/tr&gt;\\\\n    &lt;tr&gt;\\\\n      &lt;th&gt;7&lt;/th&gt;\\\\n      &lt;td&gt;brca_mut&lt;/td&gt;\\\\n      &lt;td&gt;0.074&lt;/td&gt;\\\\n    &lt;/tr&gt;\\\\n    &lt;tr&gt;\\\\n      &lt;th&gt;8&lt;/th&gt;\\\\n      &lt;td&gt;known cancer association&lt;/td&gt;\\\\n      &lt;td&gt;n&lt;/td&gt;\\\\n    &lt;/tr&gt;\\\\n    &lt;tr&gt;\\\\n      &lt;th&gt;9&lt;/th&gt;\\\\n      &lt;td&gt;Integrator&lt;/td&gt;\\\\n      &lt;td&gt;false&lt;/td&gt;\\\\n    &lt;/tr&gt;\\\\n    &lt;tr&gt;\\\\n      &lt;th&gt;10&lt;/th&gt;\\\\n      &lt;td&gt;N cancer in all descendents&lt;/td&gt;\\\\n      &lt;td&gt;3&lt;/td&gt;\\\\n    &lt;/tr&gt;\\\\n    &lt;tr&gt;\\\\n      &lt;th&gt;11&lt;/th&gt;\\\\n      &lt;td&gt;Activated in cancer&lt;/td&gt;\\\\n      &lt;td&gt;BLCA,COAD,OV&lt;/td&gt;\\\\n    &lt;/tr&gt;\\\\n    &lt;tr&gt;\\\\n      &lt;th&gt;12&lt;/th&gt;\\\\n      &lt;td&gt;ov_mut&lt;/td&gt;\\\\n      &lt;td&gt;0.095&lt;/td&gt;\\\\n    &lt;/tr&gt;\\\\n    &lt;tr&gt;\\\\n      &lt;th&gt;13&lt;/th&gt;\\\\n      &lt;td&gt;System type (&amp;lt; 50 genes)&lt;/td&gt;\\\\n      &lt;td&gt;2&lt;/td&gt;\\\\n    &lt;/tr&gt;\\\\n    &lt;tr&gt;\\\\n      &lt;th&gt;14&lt;/th&gt;\\\\n      &lt;td&gt;hnsc_mut&lt;/td&gt;\\\\n      &lt;td&gt;0.151&lt;/td&gt;\\\\n    &lt;/tr&gt;\\\\n    &lt;tr&gt;\\\\n      &lt;th&gt;15&lt;/th&gt;\\\\n      &lt;td&gt;kirc_mut&lt;/td&gt;\\\\n      &lt;td&gt;0.07&lt;/td&gt;\\\\n    &lt;/tr&gt;\\\\n    &lt;tr&gt;\\\\n      &lt;th&gt;16&lt;/th&gt;\\\\n      &lt;td&gt;Annotation&lt;/td&gt;\\\\n      &lt;td&gt;Pre-mRNA splicing complex part II&lt;/td&gt;\\\\n    &lt;/tr&gt;\\\\n    &lt;tr&gt;\\\\n      &lt;th&gt;17&lt;/th&gt;\\\\n      &lt;td&gt;Main Hallmark&lt;/td&gt;\\\\n      &lt;td&gt;mRNA processing&lt;/td&gt;\\\\n    &lt;/tr&gt;\\\\n    &lt;tr&gt;\\\\n      &lt;th&gt;18&lt;/th&gt;\\\\n      &lt;td&gt;skcm_mut&lt;/td&gt;\\\\n      &lt;td&gt;0.416&lt;/td&gt;\\\\n    &lt;/tr&gt;\\\\n    &lt;tr&gt;\\\\n      &lt;th&gt;19&lt;/th&gt;\\\\n      &lt;td&gt;blca_mut&lt;/td&gt;\\\\n      &lt;td&gt;0.267&lt;/td&gt;\\\\n    &lt;/tr&gt;\\\\n    &lt;tr&gt;\\\\n      &lt;th&gt;20&lt;/th&gt;\\\\n      &lt;td&gt;Activated in cancer (include descendents)&lt;/td&gt;\\\\n      &lt;td&gt;BLCA COAD OV&lt;/td&gt;\\\\n    &lt;/tr&gt;\\\\n    &lt;tr&gt;\\\\n      &lt;th&gt;21&lt;/th&gt;\\\\n      &lt;td&gt;lusc_mut&lt;/td&gt;\\\\n      &lt;td&gt;0.252&lt;/td&gt;\\\\n    &lt;/tr&gt;\\\\n    &lt;tr&gt;\\\\n      &lt;th&gt;22&lt;/th&gt;\\\\n      &lt;td&gt;gbm_mut&lt;/td&gt;\\\\n      &lt;td&gt;0.076&lt;/td&gt;\\\\n    &lt;/tr&gt;\\\\n    &lt;tr&gt;\\\\n      &lt;th&gt;23&lt;/th&gt;\\\\n      &lt;td&gt;logSize&lt;/td&gt;\\\\n      &lt;td&gt;3.907&lt;/td&gt;\\\\n    &lt;/tr&gt;\\\\n    &lt;tr&gt;\\\\n      &lt;th&gt;24&lt;/th&gt;\\\\n      &lt;td&gt;NEST_ID&lt;/td&gt;\\\\n      &lt;td&gt;NEST:107&lt;/td&gt;\\\\n    &lt;/tr&gt;\\\\n    &lt;tr&gt;\\\\n      &lt;th&gt;25&lt;/th&gt;\\\\n      &lt;td&gt;stad_mut&lt;/td&gt;\\\\n      &lt;td&gt;0.241&lt;/td&gt;\\\\n    &lt;/tr&gt;\\\\n  &lt;/tbody&gt;\\\\n&lt;/table&gt;</td>\\n    </tr>\\n    <tr>\\n      <th>27</th>\\n      <td>description</td>\\n      <td>&lt;table border=\"0\" class=\"dataframe\"&gt;\\\\n  &lt;thead&gt;\\\\n    &lt;tr style=\"text-align: right;\"&gt;\\\\n      &lt;th&gt;att&lt;/th&gt;\\\\n      &lt;th&gt;value&lt;/th&gt;\\\\n    &lt;/tr&gt;\\\\n  &lt;/thead&gt;\\\\n  &lt;tbody&gt;\\\\n    &lt;tr&gt;\\\\n      &lt;td&gt;coad_mut&lt;/td&gt;\\\\n      &lt;td&gt;0.217&lt;/td&gt;\\\\n    &lt;/tr&gt;\\\\n    &lt;tr&gt;\\\\n      &lt;td&gt;lihc_mut&lt;/td&gt;\\\\n      &lt;td&gt;0.112&lt;/td&gt;\\\\n    &lt;/tr&gt;\\\\n    &lt;tr&gt;\\\\n      &lt;td&gt;Genes&lt;/td&gt;\\\\n      &lt;td&gt;BCLAF1 GPATCH8 ISY1 MTDH PNN PPIG PRPF4B RBM39 RNPS1 SNRNP70 SRRM2 SRSF1 SRSF7 THRAP3 U2AF2&lt;/td&gt;\\\\n    &lt;/tr&gt;\\\\n    &lt;tr&gt;\\\\n      &lt;td&gt;Size&lt;/td&gt;\\\\n      &lt;td&gt;15&lt;/td&gt;\\\\n    &lt;/tr&gt;\\\\n    &lt;tr&gt;\\\\n      &lt;td&gt;N cancer&lt;/td&gt;\\\\n      &lt;td&gt;3.0&lt;/td&gt;\\\\n    &lt;/tr&gt;\\\\n    &lt;tr&gt;\\\\n      &lt;td&gt;ucec_mut&lt;/td&gt;\\\\n      &lt;td&gt;0.313&lt;/td&gt;\\\\n    &lt;/tr&gt;\\\\n    &lt;tr&gt;\\\\n      &lt;td&gt;luad_mut&lt;/td&gt;\\\\n      &lt;td&gt;0.217&lt;/td&gt;\\\\n    &lt;/tr&gt;\\\\n    &lt;tr&gt;\\\\n      &lt;td&gt;brca_mut&lt;/td&gt;\\\\n      &lt;td&gt;0.074&lt;/td&gt;\\\\n    &lt;/tr&gt;\\\\n    &lt;tr&gt;\\\\n      &lt;td&gt;known cancer association&lt;/td&gt;\\\\n      &lt;td&gt;n&lt;/td&gt;\\\\n    &lt;/tr&gt;\\\\n    &lt;tr&gt;\\\\n      &lt;td&gt;Integrator&lt;/td&gt;\\\\n      &lt;td&gt;false&lt;/td&gt;\\\\n    &lt;/tr&gt;\\\\n    &lt;tr&gt;\\\\n      &lt;td&gt;N cancer in all descendents&lt;/td&gt;\\\\n      &lt;td&gt;3&lt;/td&gt;\\\\n    &lt;/tr&gt;\\\\n    &lt;tr&gt;\\\\n      &lt;td&gt;Activated in cancer&lt;/td&gt;\\\\n      &lt;td&gt;BLCA,COAD,OV&lt;/td&gt;\\\\n    &lt;/tr&gt;\\\\n    &lt;tr&gt;\\\\n      &lt;td&gt;ov_mut&lt;/td&gt;\\\\n      &lt;td&gt;0.095&lt;/td&gt;\\\\n    &lt;/tr&gt;\\\\n    &lt;tr&gt;\\\\n      &lt;td&gt;System type (&amp;lt; 50 genes)&lt;/td&gt;\\\\n      &lt;td&gt;2&lt;/td&gt;\\\\n    &lt;/tr&gt;\\\\n    &lt;tr&gt;\\\\n      &lt;td&gt;hnsc_mut&lt;/td&gt;\\\\n      &lt;td&gt;0.151&lt;/td&gt;\\\\n    &lt;/tr&gt;\\\\n    &lt;tr&gt;\\\\n      &lt;td&gt;kirc_mut&lt;/td&gt;\\\\n      &lt;td&gt;0.07&lt;/td&gt;\\\\n    &lt;/tr&gt;\\\\n    &lt;tr&gt;\\\\n      &lt;td&gt;Annotation&lt;/td&gt;\\\\n      &lt;td&gt;Pre-mRNA splicing complex part II&lt;/td&gt;\\\\n    &lt;/tr&gt;\\\\n    &lt;tr&gt;\\\\n      &lt;td&gt;Main Hallmark&lt;/td&gt;\\\\n      &lt;td&gt;mRNA processing&lt;/td&gt;\\\\n    &lt;/tr&gt;\\\\n    &lt;tr&gt;\\\\n      &lt;td&gt;skcm_mut&lt;/td&gt;\\\\n      &lt;td&gt;0.416&lt;/td&gt;\\\\n    &lt;/tr&gt;\\\\n    &lt;tr&gt;\\\\n      &lt;td&gt;blca_mut&lt;/td&gt;\\\\n      &lt;td&gt;0.267&lt;/td&gt;\\\\n    &lt;/tr&gt;\\\\n    &lt;tr&gt;\\\\n      &lt;td&gt;Activated in cancer (include descendents)&lt;/td&gt;\\\\n      &lt;td&gt;BLCA COAD OV&lt;/td&gt;\\\\n    &lt;/tr&gt;\\\\n    &lt;tr&gt;\\\\n      &lt;td&gt;lusc_mut&lt;/td&gt;\\\\n      &lt;td&gt;0.252&lt;/td&gt;\\\\n    &lt;/tr&gt;\\\\n    &lt;tr&gt;\\\\n      &lt;td&gt;gbm_mut&lt;/td&gt;\\\\n      &lt;td&gt;0.076&lt;/td&gt;\\\\n    &lt;/tr&gt;\\\\n    &lt;tr&gt;\\\\n      &lt;td&gt;logSize&lt;/td&gt;\\\\n      &lt;td&gt;3.907&lt;/td&gt;\\\\n    &lt;/tr&gt;\\\\n    &lt;tr&gt;\\\\n      &lt;td&gt;NEST_ID&lt;/td&gt;\\\\n      &lt;td&gt;NEST:107&lt;/td&gt;\\\\n    &lt;/tr&gt;\\\\n    &lt;tr&gt;\\\\n      &lt;td&gt;stad_mut&lt;/td&gt;\\\\n      &lt;td&gt;0.241&lt;/td&gt;\\\\n    &lt;/tr&gt;\\\\n    &lt;tr&gt;\\\\n      &lt;td&gt;description&lt;/td&gt;\\\\n      &lt;td&gt;&amp;lt;table border=\"1\" class=\"dataframe\"&amp;gt;\\\\n  &amp;lt;thead&amp;gt;\\\\n    &amp;lt;tr style=\"text-align: right;\"&amp;gt;\\\\n      &amp;lt;th&amp;gt;&amp;lt;/th&amp;gt;\\\\n      &amp;lt;th&amp;gt;att&amp;lt;/th&amp;gt;\\\\n      &amp;lt;th&amp;gt;value&amp;lt;/th&amp;gt;\\\\n    &amp;lt;/tr&amp;gt;\\\\n  &amp;lt;/thead&amp;gt;\\\\n  &amp;lt;tbody&amp;gt;\\\\n    &amp;lt;tr&amp;gt;\\\\n      &amp;lt;th&amp;gt;0&amp;lt;/th&amp;gt;\\\\n      &amp;lt;td&amp;gt;coad_mut&amp;lt;/td&amp;gt;\\\\n      &amp;lt;td&amp;gt;0.217&amp;lt;/td&amp;gt;\\\\n    &amp;lt;/tr&amp;gt;\\\\n    &amp;lt;tr&amp;gt;\\\\n      &amp;lt;th&amp;gt;1&amp;lt;/th&amp;gt;\\\\n      &amp;lt;td&amp;gt;lihc_mut&amp;lt;/td&amp;gt;\\\\n      &amp;lt;td&amp;gt;0.112&amp;lt;/td&amp;gt;\\\\n    &amp;lt;/tr&amp;gt;\\\\n    &amp;lt;tr&amp;gt;\\\\n      &amp;lt;th&amp;gt;2&amp;lt;/th&amp;gt;\\\\n      &amp;lt;td&amp;gt;Genes&amp;lt;/td&amp;gt;\\\\n      &amp;lt;td&amp;gt;BCLAF1 GPATCH8 ISY1 MTDH PNN PPIG PRPF4B RBM39 RNPS1 SNRNP70 SRRM2 SRSF1 SRSF7 THRAP3 U2AF2&amp;lt;/td&amp;gt;\\\\n    &amp;lt;/tr&amp;gt;\\\\n    &amp;lt;tr&amp;gt;\\\\n      &amp;lt;th&amp;gt;3&amp;lt;/th&amp;gt;\\\\n      &amp;lt;td&amp;gt;Size&amp;lt;/td&amp;gt;\\\\n      &amp;lt;td&amp;gt;15&amp;lt;/td&amp;gt;\\\\n    &amp;lt;/tr&amp;gt;\\\\n    &amp;lt;tr&amp;gt;\\\\n      &amp;lt;th&amp;gt;4&amp;lt;/th&amp;gt;\\\\n      &amp;lt;td&amp;gt;N cancer&amp;lt;/td&amp;gt;\\\\n      &amp;lt;td&amp;gt;3.0&amp;lt;/td&amp;gt;\\\\n    &amp;lt;/tr&amp;gt;\\\\n    &amp;lt;tr&amp;gt;\\\\n      &amp;lt;th&amp;gt;5&amp;lt;/th&amp;gt;\\\\n      &amp;lt;td&amp;gt;ucec_mut&amp;lt;/td&amp;gt;\\\\n      &amp;lt;td&amp;gt;0.313&amp;lt;/td&amp;gt;\\\\n    &amp;lt;/tr&amp;gt;\\\\n    &amp;lt;tr&amp;gt;\\\\n      &amp;lt;th&amp;gt;6&amp;lt;/th&amp;gt;\\\\n      &amp;lt;td&amp;gt;luad_mut&amp;lt;/td&amp;gt;\\\\n      &amp;lt;td&amp;gt;0.217&amp;lt;/td&amp;gt;\\\\n    &amp;lt;/tr&amp;gt;\\\\n    &amp;lt;tr&amp;gt;\\\\n      &amp;lt;th&amp;gt;7&amp;lt;/th&amp;gt;\\\\n      &amp;lt;td&amp;gt;brca_mut&amp;lt;/td&amp;gt;\\\\n      &amp;lt;td&amp;gt;0.074&amp;lt;/td&amp;gt;\\\\n    &amp;lt;/tr&amp;gt;\\\\n    &amp;lt;tr&amp;gt;\\\\n      &amp;lt;th&amp;gt;8&amp;lt;/th&amp;gt;\\\\n      &amp;lt;td&amp;gt;known cancer association&amp;lt;/td&amp;gt;\\\\n      &amp;lt;td&amp;gt;n&amp;lt;/td&amp;gt;\\\\n    &amp;lt;/tr&amp;gt;\\\\n    &amp;lt;tr&amp;gt;\\\\n      &amp;lt;th&amp;gt;9&amp;lt;/th&amp;gt;\\\\n      &amp;lt;td&amp;gt;Integrator&amp;lt;/td&amp;gt;\\\\n      &amp;lt;td&amp;gt;false&amp;lt;/td&amp;gt;\\\\n    &amp;lt;/tr&amp;gt;\\\\n    &amp;lt;tr&amp;gt;\\\\n      &amp;lt;th&amp;gt;10&amp;lt;/th&amp;gt;\\\\n      &amp;lt;td&amp;gt;N cancer in all descendents&amp;lt;/td&amp;gt;\\\\n      &amp;lt;td&amp;gt;3&amp;lt;/td&amp;gt;\\\\n    &amp;lt;/tr&amp;gt;\\\\n    &amp;lt;tr&amp;gt;\\\\n      &amp;lt;th&amp;gt;11&amp;lt;/th&amp;gt;\\\\n      &amp;lt;td&amp;gt;Activated in cancer&amp;lt;/td&amp;gt;\\\\n      &amp;lt;td&amp;gt;BLCA,COAD,OV&amp;lt;/td&amp;gt;\\\\n    &amp;lt;/tr&amp;gt;\\\\n    &amp;lt;tr&amp;gt;\\\\n      &amp;lt;th&amp;gt;12&amp;lt;/th&amp;gt;\\\\n      &amp;lt;td&amp;gt;ov_mut&amp;lt;/td&amp;gt;\\\\n      &amp;lt;td&amp;gt;0.095&amp;lt;/td&amp;gt;\\\\n    &amp;lt;/tr&amp;gt;\\\\n    &amp;lt;tr&amp;gt;\\\\n      &amp;lt;th&amp;gt;13&amp;lt;/th&amp;gt;\\\\n      &amp;lt;td&amp;gt;System type (&amp;amp;lt; 50 genes)&amp;lt;/td&amp;gt;\\\\n      &amp;lt;td&amp;gt;2&amp;lt;/td&amp;gt;\\\\n    &amp;lt;/tr&amp;gt;\\\\n    &amp;lt;tr&amp;gt;\\\\n      &amp;lt;th&amp;gt;14&amp;lt;/th&amp;gt;\\\\n      &amp;lt;td&amp;gt;hnsc_mut&amp;lt;/td&amp;gt;\\\\n      &amp;lt;td&amp;gt;0.151&amp;lt;/td&amp;gt;\\\\n    &amp;lt;/tr&amp;gt;\\\\n    &amp;lt;tr&amp;gt;\\\\n      &amp;lt;th&amp;gt;15&amp;lt;/th&amp;gt;\\\\n      &amp;lt;td&amp;gt;kirc_mut&amp;lt;/td&amp;gt;\\\\n      &amp;lt;td&amp;gt;0.07&amp;lt;/td&amp;gt;\\\\n    &amp;lt;/tr&amp;gt;\\\\n    &amp;lt;tr&amp;gt;\\\\n      &amp;lt;th&amp;gt;16&amp;lt;/th&amp;gt;\\\\n      &amp;lt;td&amp;gt;Annotation&amp;lt;/td&amp;gt;\\\\n      &amp;lt;td&amp;gt;Pre-mRNA splicing complex part II&amp;lt;/td&amp;gt;\\\\n    &amp;lt;/tr&amp;gt;\\\\n    &amp;lt;tr&amp;gt;\\\\n      &amp;lt;th&amp;gt;17&amp;lt;/th&amp;gt;\\\\n      &amp;lt;td&amp;gt;Main Hallmark&amp;lt;/td&amp;gt;\\\\n      &amp;lt;td&amp;gt;mRNA processing&amp;lt;/td&amp;gt;\\\\n    &amp;lt;/tr&amp;gt;\\\\n    &amp;lt;tr&amp;gt;\\\\n      &amp;lt;th&amp;gt;18&amp;lt;/th&amp;gt;\\\\n      &amp;lt;td&amp;gt;skcm_mut&amp;lt;/td&amp;gt;\\\\n      &amp;lt;td&amp;gt;0.416&amp;lt;/td&amp;gt;\\\\n    &amp;lt;/tr&amp;gt;\\\\n    &amp;lt;tr&amp;gt;\\\\n      &amp;lt;th&amp;gt;19&amp;lt;/th&amp;gt;\\\\n      &amp;lt;td&amp;gt;blca_mut&amp;lt;/td&amp;gt;\\\\n      &amp;lt;td&amp;gt;0.267&amp;lt;/td&amp;gt;\\\\n    &amp;lt;/tr&amp;gt;\\\\n    &amp;lt;tr&amp;gt;\\\\n      &amp;lt;th&amp;gt;20&amp;lt;/th&amp;gt;\\\\n      &amp;lt;td&amp;gt;Activated in cancer (include descendents)&amp;lt;/td&amp;gt;\\\\n      &amp;lt;td&amp;gt;BLCA COAD OV&amp;lt;/td&amp;gt;\\\\n    &amp;lt;/tr&amp;gt;\\\\n    &amp;lt;tr&amp;gt;\\\\n      &amp;lt;th&amp;gt;21&amp;lt;/th&amp;gt;\\\\n      &amp;lt;td&amp;gt;lusc_mut&amp;lt;/td&amp;gt;\\\\n      &amp;lt;td&amp;gt;0.252&amp;lt;/td&amp;gt;\\\\n    &amp;lt;/tr&amp;gt;\\\\n    &amp;lt;tr&amp;gt;\\\\n      &amp;lt;th&amp;gt;22&amp;lt;/th&amp;gt;\\\\n      &amp;lt;td&amp;gt;gbm_mut&amp;lt;/td&amp;gt;\\\\n      &amp;lt;td&amp;gt;0.076&amp;lt;/td&amp;gt;\\\\n    &amp;lt;/tr&amp;gt;\\\\n    &amp;lt;tr&amp;gt;\\\\n      &amp;lt;th&amp;gt;23&amp;lt;/th&amp;gt;\\\\n      &amp;lt;td&amp;gt;logSize&amp;lt;/td&amp;gt;\\\\n      &amp;lt;td&amp;gt;3.907&amp;lt;/td&amp;gt;\\\\n    &amp;lt;/tr&amp;gt;\\\\n    &amp;lt;tr&amp;gt;\\\\n      &amp;lt;th&amp;gt;24&amp;lt;/th&amp;gt;\\\\n      &amp;lt;td&amp;gt;NEST_ID&amp;lt;/td&amp;gt;\\\\n      &amp;lt;td&amp;gt;NEST:107&amp;lt;/td&amp;gt;\\\\n    &amp;lt;/tr&amp;gt;\\\\n    &amp;lt;tr&amp;gt;\\\\n      &amp;lt;th&amp;gt;25&amp;lt;/th&amp;gt;\\\\n      &amp;lt;td&amp;gt;stad_mut&amp;lt;/td&amp;gt;\\\\n      &amp;lt;td&amp;gt;0.241&amp;lt;/td&amp;gt;\\\\n    &amp;lt;/tr&amp;gt;\\\\n  &amp;lt;/tbody&amp;gt;\\\\n&amp;lt;/table&amp;gt;&lt;/td&gt;\\\\n    &lt;/tr&gt;\\\\n  &lt;/tbody&gt;\\\\n&lt;/table&gt;</td>\\n    </tr>\\n  </tbody>\\n</table>'"
      ]
     },
     "execution_count": 72,
     "metadata": {},
     "output_type": "execute_result"
    }
   ],
   "source": [
    "test(model)"
   ]
  },
  {
   "cell_type": "code",
   "execution_count": 73,
   "metadata": {},
   "outputs": [
    {
     "name": "stdout",
     "output_type": "stream",
     "text": [
      "Generating CX\n"
     ]
    },
    {
     "data": {
      "text/plain": [
       "'http://public.ndexbio.org/v2/network/fd2c12bb-9aba-11ea-aaef-0ac135e8bacf'"
      ]
     },
     "execution_count": 73,
     "metadata": {},
     "output_type": "execute_result"
    }
   ],
   "source": [
    "model.upload_to(my_server, my_account, my_password)"
   ]
  },
  {
   "cell_type": "code",
   "execution_count": null,
   "metadata": {},
   "outputs": [],
   "source": []
  }
 ],
 "metadata": {
  "kernelspec": {
   "display_name": "Python 3",
   "language": "python",
   "name": "python3"
  },
  "language_info": {
   "codemirror_mode": {
    "name": "ipython",
    "version": 3
   },
   "file_extension": ".py",
   "mimetype": "text/x-python",
   "name": "python",
   "nbconvert_exporter": "python",
   "pygments_lexer": "ipython3",
   "version": "3.7.4"
  }
 },
 "nbformat": 4,
 "nbformat_minor": 2
}
