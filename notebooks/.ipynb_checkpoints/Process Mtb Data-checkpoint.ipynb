{
 "cells": [
  {
   "cell_type": "markdown",
   "metadata": {},
   "source": [
    "Process Budzik et al data\n",
    "\n",
    "3 Excel Worksheets: Abundance, Phospho, UB\n",
    "\n",
    "4 timepoints\n",
    "\n",
    "For each timepoint, merge and process the sheets to create a single spreadsheet to be loaded to Cytoscape so that we can build a model for each timepoint. Phospho and UB sites are summarized for a protein. Hence a protein can potentially be both up and down for PTMs.\n",
    "\n",
    "Columns for the output spreadsheets:\n",
    "- gene: Human Gene Symbol\n",
    "- mouse_gene: Original Mouse Gene Symbol\n",
    "- timepoint:\n",
    "- ab_sig: Significant differential abundance\n",
    "- ab_log2fc\n",
    "- ab_adj_pval\n",
    "- ab_up\n",
    "- ab_down\n",
    "- ph_sig\n",
    "- ph_max_log2fc\n",
    "- ph_max_adj_pval\n",
    "- ph_up\n",
    "- ph_up_sites: JSON of pval and fc for sites\n",
    "- ph_down\n",
    "- ph_down_sites: JSON of pval and fc of sites\n",
    "- ub_sig\n",
    "- ub_max_log2fc\n",
    "- ub_max_adj_pval\n",
    "- ub_up\n",
    "- ub_up_sites: JSON of pval and fc for sites\n",
    "- ub_down\n",
    "- ub_down_sites: JSON of pval and fc of sites"
   ]
  },
  {
   "cell_type": "code",
   "execution_count": null,
   "metadata": {},
   "outputs": [],
   "source": [
    "# imports"
   ]
  },
  {
   "cell_type": "code",
   "execution_count": null,
   "metadata": {},
   "outputs": [],
   "source": [
    "# loading"
   ]
  },
  {
   "cell_type": "code",
   "execution_count": null,
   "metadata": {},
   "outputs": [],
   "source": [
    "# timepoint processing functions"
   ]
  },
  {
   "cell_type": "code",
   "execution_count": null,
   "metadata": {},
   "outputs": [],
   "source": [
    "# process timepoints"
   ]
  }
 ],
 "metadata": {
  "kernelspec": {
   "display_name": "Python 3",
   "language": "python",
   "name": "python3"
  },
  "language_info": {
   "codemirror_mode": {
    "name": "ipython",
    "version": 3
   },
   "file_extension": ".py",
   "mimetype": "text/x-python",
   "name": "python",
   "nbconvert_exporter": "python",
   "pygments_lexer": "ipython3",
   "version": "3.7.4"
  }
 },
 "nbformat": 4,
 "nbformat_minor": 2
}
