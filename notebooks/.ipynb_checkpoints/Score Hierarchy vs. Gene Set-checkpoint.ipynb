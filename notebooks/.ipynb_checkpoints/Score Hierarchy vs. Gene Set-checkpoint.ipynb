{
 "cells": [
  {
   "cell_type": "markdown",
   "metadata": {},
   "source": [
    "### Imports"
   ]
  },
  {
   "cell_type": "code",
   "execution_count": null,
   "metadata": {},
   "outputs": [],
   "source": [
    "from ndex2.nice_cx_network import NiceCXNetwork\n",
    "import ndex2.client as nc\n",
    "import ndex2\n",
    "import networkx as nx\n",
    "import pandas as pd\n",
    "import os"
   ]
  },
  {
   "cell_type": "markdown",
   "metadata": {},
   "source": [
    "### The NDEx Account"
   ]
  },
  {
   "cell_type": "code",
   "execution_count": null,
   "metadata": {},
   "outputs": [],
   "source": [
    "my_account=\"enter your username here\"\n",
    "my_password=\"enter your password here\"\n",
    "my_server=\"http://public.ndexbio.org\"\n",
    "\n",
    "if my_account == 'enter your username here':\n",
    "    print('*******WARNING!!!!*******')\n",
    "    print('Please change the username and password before proceeding')\n",
    "else:\n",
    "    try:\n",
    "        my_ndex=nc.Ndex2(my_server, my_account, my_password)\n",
    "        my_ndex.update_status()\n",
    "        print(\"Success.  Please continue.\")\n",
    "    except Exception as inst:\n",
    "        print(\"Could not access account %s with password %s\" % (my_account, my_password))\n",
    "        print(inst.args)"
   ]
  },
  {
   "cell_type": "markdown",
   "metadata": {},
   "source": [
    "### The COVID-19 - Human Interactors Gene Set"
   ]
  },
  {
   "cell_type": "code",
   "execution_count": 2,
   "metadata": {},
   "outputs": [],
   "source": [
    "interactors = [\"F2RL1\", \"ADAM9\", \"TOR1A\", \"PMPCA\", \"CISD3\", \"ATP13A3\", \"MPHOSPH10\", \"SLC27A2\", \"TIMM10B\", \"GORASP1\", \"GNG5\", \"EXOSC5\", \"EMC1\", \"NPC2\", \"PPT1\", \"AGPS\", \"LMAN2\", \"CDK5RAP2\", \"PLD3\", \"NUP98\", \"PLOD2\", \"NPTX1\", \"GCC1\", \"RBM28\", \"LARP1\", \"REEP5\", \"MDN1\", \"TBK1\", \"TM2D3\", \"CLCC1\", \"FAM8A1\", \"PTBP2\", \"POR\", \"RAB5C\", \"GTF2F2\", \"GRIPAP1\", \"VPS39\", \"NEU1\", \"MOGS\", \"GOLGB1\", \"PLAT\", \"AKAP9\", \"PTGES2\", \"DPY19L1\", \"SLC30A9\", \"PDE4DIP\", \"HS6ST2\", \"RNF41\", \"FBN2\", \"G3BP2\", \"NDFIP2\", \"VPS11\", \"BRD4\", \"C1orf50\", \"NUP210\", \"PIGO\", \"IMPDH2\", \"GPAA1\", \"GDF15\", \"PIGS\", \"ERO1B\", \"ZNF318\", \"WASHC4\", \"AP2A2\", \"ARL6IP6\", \"NGLY1\", \"ACSL3\", \"TOMM70\", \"EDEM3\", \"LOX\", \"PDZD11\", \"RAB18\", \"NARS2\", \"NUP88\", \"TARS2\", \"FKBP15\", \"INTS4\", \"AP3B1\", \"ERGIC1\", \"NINL\", \"GGCX\", \"SLC9A3R1\", \"BCKDK\", \"NOL10\", \"CHPF\", \"PITRM1\", \"CIT\", \"PCSK6\", \"TYSND1\", \"CSNK2B\", \"ATE1\", \"MRPS5\", \"DNAJC19\", \"JAKMIP1\", \"GFER\", \"WFS1\", \"SLC44A2\", \"UGGT2\", \"NUTF2\", \"MRPS27\", \"ALG11\", \"FOXRED2\", \"PVR\", \"ERP44\", \"CEP350\", \"DNAJC11\", \"SIRT5\", \"STOM\", \"NLRX1\", \"CYB5B\", \"USP54\", \"FAR2\", \"CUL2\", \"RAB2A\", \"ZNF503\", \"PRIM1\", \"IL17RA\", \"ITGB1\", \"EIF4E2\", \"TLE3\", \"DDX10\", \"DCAF7\", \"CEP43\", \"ANO6\", \"RBM41\", \"SBNO1\", \"ZDHHC5\", \"CYB5R3\", \"SLU7\", \"PPIL3\", \"UPF1\", \"SRP19\", \"TIMM9\", \"NUP62\", \"ATP5MG\", \"CEP250\", \"MTCH1\", \"ALG8\", \"DDX21\", \"PABPC1\", \"FBXL12\", \"BRD2\", \"UBXN8\", \"SLC30A6\", \"ACAD9\", \"RAB8A\", \"ELOB\", \"PLEKHF2\", \"IDE\", \"LARP7\", \"NEK9\", \"DNMT1\", \"PRKAR2B\", \"NAT14\", \"EXOSC2\", \"GRPEL1\", \"HEATR3\", \"PCNT\", \"GCC2\", \"SCAP\", \"TLE1\", \"BZW2\", \"UBAP2\", \"SELENOS\", \"AKAP8\", \"CLIP4\", \"SEPSECS\", \"HS2ST1\", \"CRTC3\", \"RIPK1\", \"RBX1\", \"GOLGA2\", \"FBN1\", \"ATP1B1\", \"NDUFAF2\", \"ETFA\", \"PABPC4\", \"MIB1\", \"RETREG3\", \"SMOC1\", \"HDAC2\", \"AATF\", \"MARK2\", \"CENPF\", \"FBLN5\", \"NSD2\", \"MRPS25\", \"RPL36\", \"PMPCB\", \"GGH\", \"GPX1\", \"NGDN\", \"QSOX2\", \"AP2M1\", \"PRIM2\", \"TUBGCP2\", \"COQ8B\", \"REEP6\", \"ERMP1\", \"RAB1A\", \"MFGE8\", \"RDX\", \"TBKBP1\", \"TCF12\", \"ERC1\", \"RAB10\", \"FAM98A\", \"ZC3H7A\", \"ABCC1\", \"NDUFB9\", \"GOLGA7\", \"PUSL1\", \"RAB7A\", \"SPART\", \"ACADM\", \"RAE1\", \"TBCA\", \"PLEKHA5\", \"NDUFAF1\", \"NIN\", \"TLE5\", \"COL6A1\", \"DPH5\", \"PRKAR2A\", \"MARK3\", \"MYCBP2\", \"TOR1AIP1\", \"HMOX1\", \"DCTPP1\", \"BCS1L\", \"ADAMTS1\", \"ERLEC1\", \"TIMM29\", \"NUP214\", \"NUP58\", \"MRPS2\", \"MARK1\", \"SIL1\", \"POLA2\", \"CHMP2A\", \"ARF6\", \"SUN2\", \"POLA1\", \"EIF4H\", \"FASTKD5\", \"ATP6V1A\", \"TAPT1\", \"TMEM97\", \"FKBP7\", \"STOML2\", \"STC2\", \"CEP135\", \"CEP112\", \"SRP54\", \"SDF2\", \"SNIP1\", \"AKAP8L\", \"EXOSC3\", \"RAB14\", \"ZC3H18\", \"TMEM39B\", \"CNTRL\", \"OS9\", \"ATP6AP1\", \"LARP4B\", \"FAM162A\", \"TIMM8B\", \"NUP54\", \"AAR2\", \"THTPA\", \"SLC30A7\", \"PRRC2B\", \"FYCO1\", \"PKP2\", \"DCAKD\", \"YIF1A\", \"GIGYF2\", \"GHITM\", \"CSDE1\", \"TRIM59\", \"HYOU1\", \"BAG5\", \"HSBP1\", \"SIGMAR1\", \"TRMT1\", \"MOV10\", \"SLC25A21\", \"INHBE\", \"GLA\", \"COMT\", \"UBAP2L\", \"MTARC1\", \"PSMD8\", \"FKBP10\", \"PRKACA\", \"EXOSC8\", \"ZYG11B\", \"RAP1GDS1\", \"ELOC\", \"MAT2B\", \"POFUT1\", \"POGLUT2\", \"HECTD1\", \"GOLGA3\", \"SAAL1\", \"TMED5\", \"MIPOL1\", \"RHOA\", \"CCDC86\", \"CEP68\", \"ECSIT\"]"
   ]
  },
  {
   "cell_type": "markdown",
   "metadata": {},
   "source": [
    "### The Hierarchy"
   ]
  },
  {
   "cell_type": "code",
   "execution_count": null,
   "metadata": {},
   "outputs": [],
   "source": [
    "hierarchy_network = ndex2.create_nice_cx_from_server(server='public.ndexbio.org', uuid='f1dd6cc3-0007-11e6-b550-06603eb7f303')"
   ]
  },
  {
   "cell_type": "markdown",
   "metadata": {},
   "source": [
    "### Scoring"
   ]
  },
  {
   "cell_type": "code",
   "execution_count": null,
   "metadata": {},
   "outputs": [],
   "source": [
    "for node_id, node in hierarchy_network.get_nodes():\n",
    "    # get the community members\n",
    "    # find the members that \n",
    "    if node.get('n') == 'RAD52':\n",
    "        print(node)\n",
    "        break"
   ]
  },
  {
   "cell_type": "markdown",
   "metadata": {},
   "source": [
    "### Save to NDEx"
   ]
  },
  {
   "cell_type": "code",
   "execution_count": null,
   "metadata": {},
   "outputs": [],
   "source": [
    "if my_account == 'enter your username here':\n",
    "    print('*******WARNING!!!!*******')\n",
    "    print('Please change the username and password before proceeding')\n",
    "else:\n",
    "    upload_message = nice_cx_df_with_headers.upload_to(my_server, my_account, my_password)\n",
    "    print(upload_message)"
   ]
  }
 ],
 "metadata": {
  "kernelspec": {
   "display_name": "Python 3",
   "language": "python",
   "name": "python3"
  },
  "language_info": {
   "codemirror_mode": {
    "name": "ipython",
    "version": 3
   },
   "file_extension": ".py",
   "mimetype": "text/x-python",
   "name": "python",
   "nbconvert_exporter": "python",
   "pygments_lexer": "ipython3",
   "version": "3.7.4"
  }
 },
 "nbformat": 4,
 "nbformat_minor": 2
}
