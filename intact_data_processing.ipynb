{
 "cells": [
  {
   "cell_type": "code",
   "execution_count": null,
   "metadata": {},
   "outputs": [],
   "source": [
    "import pandas as pd"
   ]
  },
  {
   "cell_type": "code",
   "execution_count": null,
   "metadata": {},
   "outputs": [],
   "source": [
    "df1 = pd.read_csv('annot__dat_mitab2_5.txt', sep='\\t')\n",
    "df1.head(3)"
   ]
  },
  {
   "cell_type": "code",
   "execution_count": null,
   "metadata": {},
   "outputs": [],
   "source": [
    "#Get all column headers as list\n",
    "all_cols = df1.columns.values.tolist()\n",
    "print(all_cols)"
   ]
  },
  {
   "cell_type": "code",
   "execution_count": null,
   "metadata": {},
   "outputs": [],
   "source": [
    "#Select data columns to use and create new dataframe\n",
    "cols = ['#ID(s) interactor A', 'ID(s) interactor B', 'Alias(es) interactor A', 'Alias(es) interactor B', 'Interaction detection method(s)', 'Publication 1st author(s)', 'Publication Identifier(s)', 'Taxid interactor A', 'Taxid interactor B', 'Interaction type(s)', 'Confidence value(s)', 'Biological role(s) interactor A', 'Biological role(s) interactor B', 'Experimental role(s) interactor A', 'Experimental role(s) interactor B']\n",
    "df2 = df1[cols].reset_index(drop=True)\n",
    "df2.head(5)"
   ]
  },
  {
   "cell_type": "code",
   "execution_count": null,
   "metadata": {},
   "outputs": [],
   "source": [
    "#Option A\n",
    "#Split the string at vertical bars and get the substrings as a list in the same dataframe\n",
    "#df2['Alias(es) interactor A'] = df2['Alias(es) interactor A'].str.split('|', expand = False)\n",
    "#df2.head(5)\n",
    "\n",
    "#Option B\n",
    "#Alternatively, setting 'expand=True' will expand the substring in a new dataframe:\n",
    "df3 = df2['Alias(es) interactor A'].str.split('|', expand = True)\n",
    "df3.head(5)"
   ]
  },
  {
   "cell_type": "code",
   "execution_count": null,
   "metadata": {},
   "outputs": [],
   "source": [
    "# Most of the gene names are in column 1, so option B is pretty good,\n",
    "# but some nodes will not have human readable names.\n",
    "\n",
    "# Option A might be better because we can manipulate the list of values... But I can t figure out how to do that."
   ]
  },
  {
   "cell_type": "code",
   "execution_count": null,
   "metadata": {},
   "outputs": [],
   "source": []
  },
  {
   "cell_type": "code",
   "execution_count": null,
   "metadata": {},
   "outputs": [],
   "source": [
    "# Option A"
   ]
  },
  {
   "cell_type": "code",
   "execution_count": null,
   "metadata": {},
   "outputs": [],
   "source": []
  },
  {
   "cell_type": "code",
   "execution_count": null,
   "metadata": {},
   "outputs": [],
   "source": [
    "# Option b"
   ]
  },
  {
   "cell_type": "code",
   "execution_count": null,
   "metadata": {},
   "outputs": [],
   "source": [
    "df3[1] = df3[1].str.replace(\"uniprotkb:\", \"\", regex=False)\n",
    "df3.head()"
   ]
  },
  {
   "cell_type": "code",
   "execution_count": null,
   "metadata": {},
   "outputs": [],
   "source": [
    "df3[1] = df3[1].str.replace(\"(gene name)\", \"\", regex=False)\n",
    "df3[1] = df3[1].str.replace(\"(gene name synonym)\", \"\", regex=False)\n",
    "df3[1] = df3[1].str.replace(\"(display_long)\", \"\", regex=False)\n",
    "df3.head()"
   ]
  },
  {
   "cell_type": "code",
   "execution_count": null,
   "metadata": {},
   "outputs": [],
   "source": [
    "df2['name A'] = df3[1]\n",
    "df2.head()"
   ]
  },
  {
   "cell_type": "code",
   "execution_count": null,
   "metadata": {},
   "outputs": [],
   "source": [
    "# SAME PROCEDURE NEEDS TO BE DONE FOR \"ALIAS (ES) INTERACTOR B\" column"
   ]
  },
  {
   "cell_type": "code",
   "execution_count": null,
   "metadata": {},
   "outputs": [],
   "source": []
  },
  {
   "cell_type": "code",
   "execution_count": null,
   "metadata": {},
   "outputs": [],
   "source": [
    "# Correct header name and drop duplicate columns\n",
    "df2['ID(s) interactor A'] = df2['#ID(s) interactor A']\n",
    "df2.drop(columns =[\"Alias(es) interactor A\", \"Alias(es) interactor B\", '#ID(s) interactor A'], inplace = True)\n",
    "df2.head(3)"
   ]
  },
  {
   "cell_type": "code",
   "execution_count": null,
   "metadata": {},
   "outputs": [],
   "source": [
    "#Get columns headers as list\n",
    "new_cols = df2.columns.values.tolist()\n",
    "print(new_cols)\n",
    "\n",
    "# Re-order columns in final dataframe\n",
    "df2 = df2[['ID(s) interactor A', 'ID(s) interactor B', 'name A', 'name B', 'Interaction detection method(s)', 'Publication 1st author(s)', 'Publication Identifier(s)', 'Taxid interactor A', 'Taxid interactor B', 'Interaction type(s)', 'Confidence value(s)', 'Biological role(s) interactor A', 'Biological role(s) interactor B', 'Experimental role(s) interactor A', 'Experimental role(s) interactor B']]\n",
    "df2.head(3)"
   ]
  }
 ],
 "metadata": {
  "kernelspec": {
   "display_name": "Python 3",
   "language": "python",
   "name": "python3"
  },
  "language_info": {
   "codemirror_mode": {
    "name": "ipython",
    "version": 3
   },
   "file_extension": ".py",
   "mimetype": "text/x-python",
   "name": "python",
   "nbconvert_exporter": "python",
   "pygments_lexer": "ipython3",
   "version": "3.7.4"
  }
 },
 "nbformat": 4,
 "nbformat_minor": 2
}
